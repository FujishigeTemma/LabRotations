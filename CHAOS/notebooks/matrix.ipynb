{
 "cells": [
  {
   "cell_type": "code",
   "execution_count": 1,
   "metadata": {},
   "outputs": [],
   "source": [
    "import polars as pl\n",
    "import numpy as np\n",
    "from scipy.cluster.hierarchy import linkage, leaves_list\n",
    "from scipy.spatial.distance import pdist\n",
    "import plotly.graph_objects as go"
   ]
  },
  {
   "cell_type": "code",
   "execution_count": 2,
   "metadata": {},
   "outputs": [],
   "source": [
    "ccm = pl.read_csv(\"../data/output_CellCycle2X_CCM.csv\", null_values=[\"NA\"])"
   ]
  },
  {
   "cell_type": "code",
   "execution_count": 3,
   "metadata": {},
   "outputs": [
    {
     "data": {
      "text/html": [
       "<div><style>\n",
       ".dataframe > thead > tr,\n",
       ".dataframe > tbody > tr {\n",
       "  text-align: right;\n",
       "  white-space: pre-wrap;\n",
       "}\n",
       "</style>\n",
       "<small>shape: (5, 12)</small><table border=\"1\" class=\"dataframe\"><thead><tr><th></th><th>E</th><th>tau</th><th>tp</th><th>nn</th><th>lib_column</th><th>target_column</th><th>lib_size</th><th>num_pred</th><th>rho</th><th>mae</th><th>rmse</th></tr><tr><td>i64</td><td>i64</td><td>i64</td><td>i64</td><td>i64</td><td>i64</td><td>i64</td><td>i64</td><td>i64</td><td>f64</td><td>f64</td><td>f64</td></tr></thead><tbody><tr><td>1</td><td>4</td><td>4</td><td>0</td><td>5</td><td>1</td><td>1</td><td>44</td><td>44</td><td>0.726545</td><td>0.416029</td><td>0.642524</td></tr><tr><td>2</td><td>4</td><td>4</td><td>0</td><td>5</td><td>1</td><td>2</td><td>44</td><td>44</td><td>0.535088</td><td>0.583298</td><td>0.714398</td></tr><tr><td>3</td><td>4</td><td>4</td><td>0</td><td>5</td><td>1</td><td>3</td><td>44</td><td>44</td><td>-0.283443</td><td>0.5247</td><td>0.651745</td></tr><tr><td>4</td><td>4</td><td>4</td><td>0</td><td>5</td><td>1</td><td>4</td><td>44</td><td>44</td><td>-0.225491</td><td>0.772743</td><td>0.976238</td></tr><tr><td>5</td><td>4</td><td>4</td><td>0</td><td>5</td><td>1</td><td>5</td><td>44</td><td>44</td><td>0.222429</td><td>0.646938</td><td>0.848623</td></tr></tbody></table></div>"
      ],
      "text/plain": [
       "shape: (5, 12)\n",
       "┌─────┬─────┬─────┬─────┬───┬──────────┬───────────┬──────────┬──────────┐\n",
       "│     ┆ E   ┆ tau ┆ tp  ┆ … ┆ num_pred ┆ rho       ┆ mae      ┆ rmse     │\n",
       "│ --- ┆ --- ┆ --- ┆ --- ┆   ┆ ---      ┆ ---       ┆ ---      ┆ ---      │\n",
       "│ i64 ┆ i64 ┆ i64 ┆ i64 ┆   ┆ i64      ┆ f64       ┆ f64      ┆ f64      │\n",
       "╞═════╪═════╪═════╪═════╪═══╪══════════╪═══════════╪══════════╪══════════╡\n",
       "│ 1   ┆ 4   ┆ 4   ┆ 0   ┆ … ┆ 44       ┆ 0.726545  ┆ 0.416029 ┆ 0.642524 │\n",
       "│ 2   ┆ 4   ┆ 4   ┆ 0   ┆ … ┆ 44       ┆ 0.535088  ┆ 0.583298 ┆ 0.714398 │\n",
       "│ 3   ┆ 4   ┆ 4   ┆ 0   ┆ … ┆ 44       ┆ -0.283443 ┆ 0.5247   ┆ 0.651745 │\n",
       "│ 4   ┆ 4   ┆ 4   ┆ 0   ┆ … ┆ 44       ┆ -0.225491 ┆ 0.772743 ┆ 0.976238 │\n",
       "│ 5   ┆ 4   ┆ 4   ┆ 0   ┆ … ┆ 44       ┆ 0.222429  ┆ 0.646938 ┆ 0.848623 │\n",
       "└─────┴─────┴─────┴─────┴───┴──────────┴───────────┴──────────┴──────────┘"
      ]
     },
     "execution_count": 3,
     "metadata": {},
     "output_type": "execute_result"
    }
   ],
   "source": [
    "ccm.head()"
   ]
  },
  {
   "cell_type": "code",
   "execution_count": 4,
   "metadata": {},
   "outputs": [],
   "source": [
    "uniq = {\n",
    "    col: ccm.unique(subset=col)[col]\n",
    "    for col in [\n",
    "        \"E\",\n",
    "        \"tau\",\n",
    "        \"tp\",\n",
    "        \"nn\",\n",
    "        \"lib_column\",\n",
    "        \"target_column\",\n",
    "        \"lib_size\",\n",
    "        \"num_pred\",\n",
    "    ]\n",
    "}"
   ]
  },
  {
   "cell_type": "code",
   "execution_count": 5,
   "metadata": {},
   "outputs": [
    {
     "data": {
      "text/html": [
       "<div><style>\n",
       ".dataframe > thead > tr,\n",
       ".dataframe > tbody > tr {\n",
       "  text-align: right;\n",
       "  white-space: pre-wrap;\n",
       "}\n",
       "</style>\n",
       "<small>shape: (4_824,)</small><table border=\"1\" class=\"dataframe\"><thead><tr><th>lib_column</th></tr><tr><td>i64</td></tr></thead><tbody><tr><td>4085</td></tr><tr><td>4368</td></tr><tr><td>4487</td></tr><tr><td>1209</td></tr><tr><td>4109</td></tr><tr><td>&hellip;</td></tr><tr><td>235</td></tr><tr><td>2575</td></tr><tr><td>1295</td></tr><tr><td>375</td></tr><tr><td>1027</td></tr></tbody></table></div>"
      ],
      "text/plain": [
       "shape: (4_824,)\n",
       "Series: 'lib_column' [i64]\n",
       "[\n",
       "\t4085\n",
       "\t4368\n",
       "\t4487\n",
       "\t1209\n",
       "\t4109\n",
       "\t…\n",
       "\t235\n",
       "\t2575\n",
       "\t1295\n",
       "\t375\n",
       "\t1027\n",
       "]"
      ]
     },
     "execution_count": 5,
     "metadata": {},
     "output_type": "execute_result"
    }
   ],
   "source": [
    "uniq[\"lib_column\"]"
   ]
  },
  {
   "cell_type": "code",
   "execution_count": 6,
   "metadata": {},
   "outputs": [],
   "source": [
    "best_rho = (\n",
    "    ccm.group_by([\"lib_column\", \"target_column\"])\n",
    "    .agg(pl.max(\"rho\"))\n",
    "    .sort(\"lib_column\", \"target_column\")\n",
    ")"
   ]
  },
  {
   "cell_type": "code",
   "execution_count": 7,
   "metadata": {},
   "outputs": [
    {
     "data": {
      "text/html": [
       "<div><style>\n",
       ".dataframe > thead > tr,\n",
       ".dataframe > tbody > tr {\n",
       "  text-align: right;\n",
       "  white-space: pre-wrap;\n",
       "}\n",
       "</style>\n",
       "<small>shape: (23_270_976, 3)</small><table border=\"1\" class=\"dataframe\"><thead><tr><th>lib_column</th><th>target_column</th><th>rho</th></tr><tr><td>i64</td><td>i64</td><td>f64</td></tr></thead><tbody><tr><td>1</td><td>1</td><td>0.726545</td></tr><tr><td>1</td><td>2</td><td>0.535088</td></tr><tr><td>1</td><td>3</td><td>-0.283443</td></tr><tr><td>1</td><td>4</td><td>-0.225491</td></tr><tr><td>1</td><td>5</td><td>0.222429</td></tr><tr><td>&hellip;</td><td>&hellip;</td><td>&hellip;</td></tr><tr><td>4824</td><td>4820</td><td>-0.564208</td></tr><tr><td>4824</td><td>4821</td><td>0.065406</td></tr><tr><td>4824</td><td>4822</td><td>0.310207</td></tr><tr><td>4824</td><td>4823</td><td>0.196878</td></tr><tr><td>4824</td><td>4824</td><td>0.883503</td></tr></tbody></table></div>"
      ],
      "text/plain": [
       "shape: (23_270_976, 3)\n",
       "┌────────────┬───────────────┬───────────┐\n",
       "│ lib_column ┆ target_column ┆ rho       │\n",
       "│ ---        ┆ ---           ┆ ---       │\n",
       "│ i64        ┆ i64           ┆ f64       │\n",
       "╞════════════╪═══════════════╪═══════════╡\n",
       "│ 1          ┆ 1             ┆ 0.726545  │\n",
       "│ 1          ┆ 2             ┆ 0.535088  │\n",
       "│ 1          ┆ 3             ┆ -0.283443 │\n",
       "│ 1          ┆ 4             ┆ -0.225491 │\n",
       "│ 1          ┆ 5             ┆ 0.222429  │\n",
       "│ …          ┆ …             ┆ …         │\n",
       "│ 4824       ┆ 4820          ┆ -0.564208 │\n",
       "│ 4824       ┆ 4821          ┆ 0.065406  │\n",
       "│ 4824       ┆ 4822          ┆ 0.310207  │\n",
       "│ 4824       ┆ 4823          ┆ 0.196878  │\n",
       "│ 4824       ┆ 4824          ┆ 0.883503  │\n",
       "└────────────┴───────────────┴───────────┘"
      ]
     },
     "execution_count": 7,
     "metadata": {},
     "output_type": "execute_result"
    }
   ],
   "source": [
    "best_rho"
   ]
  },
  {
   "cell_type": "code",
   "execution_count": 8,
   "metadata": {},
   "outputs": [],
   "source": [
    "N = len(uniq[\"lib_column\"])\n",
    "\n",
    "Matrix = best_rho[\"rho\"].to_numpy().reshape((N, N))\n",
    "Matrix = np.nan_to_num(Matrix)"
   ]
  },
  {
   "cell_type": "code",
   "execution_count": 9,
   "metadata": {},
   "outputs": [
    {
     "name": "stdout",
     "output_type": "stream",
     "text": [
      "Number of NaNs: 0 Percentage of NaNs: 0.0%\n"
     ]
    }
   ],
   "source": [
    "N_nan = np.isnan(Matrix).sum().sum()\n",
    "print(f\"Number of NaNs: {N_nan}\", f\"Percentage of NaNs: {N_nan / (N * N) * 100}%\")"
   ]
  },
  {
   "cell_type": "code",
   "execution_count": 10,
   "metadata": {},
   "outputs": [],
   "source": [
    "def cluster(M: np.ndarray, method=\"ward\"):\n",
    "    Normailzed = (M - M.mean(axis=0)) / M.std(axis=0)\n",
    "    D_row, D_col = (\n",
    "        pdist(Normailzed, metric=\"correlation\"),\n",
    "        pdist(Normailzed.T, metric=\"correlation\"),\n",
    "    )\n",
    "    Z_row, Z_col = linkage(D_row, method=method), linkage(D_col, method=method)\n",
    "    col_indecies, row_indecies = leaves_list(Z_row), leaves_list(Z_col)\n",
    "    return M[row_indecies, :][:, col_indecies]"
   ]
  },
  {
   "cell_type": "code",
   "execution_count": 19,
   "metadata": {},
   "outputs": [],
   "source": [
    "Clustered = cluster(Matrix, method=\"average\")"
   ]
  },
  {
   "cell_type": "code",
   "execution_count": 25,
   "metadata": {},
   "outputs": [],
   "source": [
    "from PIL import Image\n",
    "from matplotlib import colormaps\n",
    "\n",
    "CELL_SIZE = 2\n",
    "\n",
    "\n",
    "def plot_matrix(Matrix: np.ndarray, filename: str):\n",
    "    Matrix = (Matrix + 1) / 2\n",
    "\n",
    "    colormap = colormaps.get_cmap(\"jet\")\n",
    "    colors = (colormap(Matrix) * 255).astype(np.uint8)\n",
    "    img = Image.fromarray(colors)\n",
    "\n",
    "    width, height = img.size\n",
    "    img = img.resize(\n",
    "        (width * CELL_SIZE, height * CELL_SIZE), resample=Image.Resampling.NEAREST\n",
    "    )\n",
    "\n",
    "    img.save(filename)\n",
    "\n",
    "\n",
    "plot_matrix(Clustered, \"clustered_complete.png\")"
   ]
  }
 ],
 "metadata": {
  "kernelspec": {
   "display_name": ".venv",
   "language": "python",
   "name": "python3"
  },
  "language_info": {
   "codemirror_mode": {
    "name": "ipython",
    "version": 3
   },
   "file_extension": ".py",
   "mimetype": "text/x-python",
   "name": "python",
   "nbconvert_exporter": "python",
   "pygments_lexer": "ipython3",
   "version": "3.12.0"
  }
 },
 "nbformat": 4,
 "nbformat_minor": 2
}
